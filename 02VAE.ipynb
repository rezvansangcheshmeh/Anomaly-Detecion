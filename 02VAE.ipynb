{
 "cells": [
  {
   "cell_type": "code",
   "execution_count": 5,
   "id": "80b88c97",
   "metadata": {},
   "outputs": [],
   "source": [
    "import torch\n",
    "from torchvision import transforms\n",
    "from torch.utils.data import DataLoader"
   ]
  },
  {
   "cell_type": "code",
   "execution_count": 6,
   "id": "4f7f93aa",
   "metadata": {},
   "outputs": [],
   "source": [
    "from vae.vae_train import train_model\n",
    "from vae.vae_test import test_model\n",
    "from tools.dataset import BottleDataset"
   ]
  },
  {
   "cell_type": "code",
   "execution_count": 7,
   "id": "18935792",
   "metadata": {},
   "outputs": [
    {
     "ename": "NameError",
     "evalue": "name 'F' is not defined",
     "output_type": "error",
     "traceback": [
      "\u001b[31m---------------------------------------------------------------------------\u001b[39m",
      "\u001b[31mNameError\u001b[39m                                 Traceback (most recent call last)",
      "\u001b[36mCell\u001b[39m\u001b[36m \u001b[39m\u001b[32mIn[7]\u001b[39m\u001b[32m, line 11\u001b[39m\n\u001b[32m      8\u001b[39m train_dataset = BottleDataset(\u001b[33m\"\u001b[39m\u001b[33mdataset/bottle/train/good\u001b[39m\u001b[33m\"\u001b[39m, transform)\n\u001b[32m      9\u001b[39m train_loader = DataLoader(train_dataset, batch_size=\u001b[32m16\u001b[39m, shuffle=\u001b[38;5;28;01mTrue\u001b[39;00m)\n\u001b[32m---> \u001b[39m\u001b[32m11\u001b[39m model = \u001b[43mtrain_model\u001b[49m\u001b[43m(\u001b[49m\u001b[43mtrain_loader\u001b[49m\u001b[43m,\u001b[49m\u001b[43m \u001b[49m\u001b[43mdevice\u001b[49m\u001b[43m,\u001b[49m\u001b[43m \u001b[49m\u001b[43mnum_epochs\u001b[49m\u001b[43m=\u001b[49m\u001b[32;43m1\u001b[39;49m\u001b[43m)\u001b[49m\n",
      "\u001b[36mFile \u001b[39m\u001b[32m/media/cheshmeh/Project/adv_Project/MVTec /vae/vae_train.py:20\u001b[39m, in \u001b[36mtrain_model\u001b[39m\u001b[34m(train_loader, device, num_epochs)\u001b[39m\n\u001b[32m     18\u001b[39m images = images.to(device)\n\u001b[32m     19\u001b[39m reconstructed, mu, logvar = model(images)\n\u001b[32m---> \u001b[39m\u001b[32m20\u001b[39m loss = \u001b[43mvae_loss\u001b[49m\u001b[43m(\u001b[49m\u001b[43mreconstructed\u001b[49m\u001b[43m,\u001b[49m\u001b[43m \u001b[49m\u001b[43mimages\u001b[49m\u001b[43m,\u001b[49m\u001b[43m \u001b[49m\u001b[43mmu\u001b[49m\u001b[43m,\u001b[49m\u001b[43m \u001b[49m\u001b[43mlogvar\u001b[49m\u001b[43m)\u001b[49m\n\u001b[32m     21\u001b[39m optimizer.zero_grad()\n\u001b[32m     22\u001b[39m loss.backward()\n",
      "\u001b[36mFile \u001b[39m\u001b[32m/media/cheshmeh/Project/adv_Project/MVTec /vae/vae_train.py:6\u001b[39m, in \u001b[36mvae_loss\u001b[39m\u001b[34m(reconstructed, original, mu, logvar)\u001b[39m\n\u001b[32m      5\u001b[39m \u001b[38;5;28;01mdef\u001b[39;00m\u001b[38;5;250m \u001b[39m\u001b[34mvae_loss\u001b[39m(reconstructed, original, mu, logvar):\n\u001b[32m----> \u001b[39m\u001b[32m6\u001b[39m     recon_loss = \u001b[43mF\u001b[49m.mse_loss(reconstructed, original, reduction=\u001b[33m'\u001b[39m\u001b[33msum\u001b[39m\u001b[33m'\u001b[39m)\n\u001b[32m      7\u001b[39m     kl_div = -\u001b[32m0.5\u001b[39m * torch.sum(\u001b[32m1\u001b[39m + logvar - mu.pow(\u001b[32m2\u001b[39m) - logvar.exp())\n\u001b[32m      8\u001b[39m     \u001b[38;5;28;01mreturn\u001b[39;00m recon_loss + kl_div\n",
      "\u001b[31mNameError\u001b[39m: name 'F' is not defined"
     ]
    }
   ],
   "source": [
    "\n",
    "\n",
    "device = torch.device(\"cuda\" if torch.cuda.is_available() else \"cpu\")\n",
    "\n",
    "transform = transforms.Compose([\n",
    "    transforms.Resize((256, 256)),\n",
    "    transforms.ToTensor()\n",
    "])\n",
    "\n",
    "train_dataset = BottleDataset(\"dataset/bottle/train/good\", transform)\n",
    "train_loader = DataLoader(train_dataset, batch_size=16, shuffle=True)\n",
    "\n",
    "model = train_model(train_loader, device, num_epochs=1)\n"
   ]
  },
  {
   "cell_type": "code",
   "execution_count": null,
   "id": "124feded",
   "metadata": {},
   "outputs": [],
   "source": [
    "test_model(model, \"dataset/bottle/test/broken_large\", \"dataset/bottle/ground_truth/broken_large\", device)\n"
   ]
  }
 ],
 "metadata": {
  "kernelspec": {
   "display_name": "mvtec_env",
   "language": "python",
   "name": "python3"
  },
  "language_info": {
   "codemirror_mode": {
    "name": "ipython",
    "version": 3
   },
   "file_extension": ".py",
   "mimetype": "text/x-python",
   "name": "python",
   "nbconvert_exporter": "python",
   "pygments_lexer": "ipython3",
   "version": "3.12.3"
  }
 },
 "nbformat": 4,
 "nbformat_minor": 5
}
